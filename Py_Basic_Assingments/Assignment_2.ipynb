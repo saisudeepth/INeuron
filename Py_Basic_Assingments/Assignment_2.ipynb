{
 "cells": [
  {
   "cell_type": "markdown",
   "metadata": {},
   "source": [
    "# 1. What are the Boolean data type's two values? How do you go about writing them? "
   ]
  },
  {
   "cell_type": "code",
   "execution_count": 3,
   "metadata": {},
   "outputs": [
    {
     "name": "stdout",
     "output_type": "stream",
     "text": [
      "Booleans represent one of two values: True or False.\n",
      "When you compare two values, the expression is evaluated and Python returns the Boolean answer.\n",
      "True :- \n",
      "-->Almost any value is evaluated to True if it has some sort of content.\n",
      "-->Any string is True, except empty strings.\n",
      "-->Any number is True, except 0.\n",
      "-->Any list, tuple, set, and dictionary are True, except empty ones.\n",
      "True\n",
      "True\n",
      "True\n",
      "\n",
      "\n",
      "False:- \n",
      "-->There are not many values that evaluate to False, except empty values, such as (), [], {}, \"\", the number 0, and the value None.\n",
      "-->And of course the value False evaluates to False.\n",
      "False\n",
      "False\n",
      "False\n",
      "False\n",
      "False\n",
      "False\n",
      "False\n"
     ]
    }
   ],
   "source": [
    "print('Booleans represent one of two values: True or False.' + '\\n' +\n",
    "'When you compare two values, the expression is evaluated and Python returns the Boolean answer.')\n",
    "\n",
    "print('True :- ' +'\\n'+\n",
    "'-->Almost any value is evaluated to True if it has some sort of content.'+'\\n'+\n",
    "\n",
    "'-->Any string is True, except empty strings.'+'\\n'+\n",
    "\n",
    "'-->Any number is True, except 0.'+'\\n'+\n",
    "\n",
    "'-->Any list, tuple, set, and dictionary are True, except empty ones.')\n",
    "\n",
    "\n",
    "print(bool(\"abc\"))\n",
    "print(bool(123))\n",
    "print(bool([\"apple\", \"cherry\", \"banana\"]))\n",
    "\n",
    "print('\\n')\n",
    "print('False:- ' +'\\n'+\n",
    "'-->There are not many values that evaluate to False, except empty values, such as (), [], {}, \"\", the number 0, and the value None.' +'\\n'+ \n",
    "'-->And of course the value False evaluates to False.')\n",
    "\n",
    "print(bool(False))\n",
    "print(bool(None))\n",
    "print(bool(0))\n",
    "print(bool(\"\"))\n",
    "print(bool(()))\n",
    "print(bool([]))\n",
    "print(bool({}))\n"
   ]
  },
  {
   "cell_type": "markdown",
   "metadata": {},
   "source": [
    "# 2. What are the three different types of Boolean operators?"
   ]
  },
  {
   "cell_type": "code",
   "execution_count": 5,
   "metadata": {},
   "outputs": [
    {
     "name": "stdout",
     "output_type": "stream",
     "text": [
      "Booleans represent one of two values: True or False.\n",
      "When you compare two values, the expression is evaluated and Python returns the Boolean answer.\n",
      "\n",
      "\n",
      "The three types of boolean operators are:\n",
      "**The AND operator (&& or “and”)\n",
      "**The OR operator (|| or “or”)\n",
      "**The NOT operator (not)\n"
     ]
    }
   ],
   "source": [
    "print('Booleans represent one of two values: True or False.' + '\\n' +\n",
    "'When you compare two values, the expression is evaluated and Python returns the Boolean answer.')\n",
    "print('\\n')\n",
    "print('The three types of boolean operators are:' +'\\n'+\n",
    "\n",
    "'**The AND operator (&& or “and”)'+'\\n'+\n",
    "'**The OR operator (|| or “or”)'+'\\n'+\n",
    "'**The NOT operator (not)')"
   ]
  },
  {
   "cell_type": "markdown",
   "metadata": {},
   "source": [
    "# 3. Make a list of each Boolean operator's truth tables (i.e. every possible combination of Boolean values for the operator and what it evaluate ).\n"
   ]
  },
  {
   "cell_type": "code",
   "execution_count": 8,
   "metadata": {},
   "outputs": [
    {
     "name": "stdout",
     "output_type": "stream",
     "text": [
      "Logical Operators:-\n",
      "x or y is True\n",
      "\n",
      "\n",
      "Identity operators\n",
      "True\n",
      "\n",
      "\n",
      "Membership operators\n",
      "True\n",
      "True\n",
      "True\n"
     ]
    }
   ],
   "source": [
    "print('Logical Operators:-')\n",
    "x = True\n",
    "y = False\n",
    "\n",
    "#print('x and y is',x and y)\n",
    "\n",
    "print('x or y is',x or y)\n",
    "\n",
    "#print('not x is',not x)\n",
    "\n",
    "print('\\n')\n",
    "\n",
    "print('Identity operators')\n",
    "\n",
    "x1 = 5\n",
    "y1 = 5\n",
    "x2 = 'Hello'\n",
    "y2 = 'Hello'\n",
    "x3 = [1,2,3]\n",
    "y3 = [1,2,3]\n",
    "\n",
    "# Output: False\n",
    "#print(x1 is not y1)\n",
    "\n",
    "# Output: True\n",
    "print(x2 is y2)\n",
    "\n",
    "# Output: False\n",
    "#print(x3 is y3)\n",
    "print('\\n')\n",
    "print('Membership operators')\n",
    "\n",
    "x = 'Hello world'\n",
    "y = {1:'a',2:'b'}\n",
    "\n",
    "# Output: True\n",
    "print('H' in x)\n",
    "\n",
    "# Output: True\n",
    "print('hello' not in x)\n",
    "\n",
    "# Output: True\n",
    "print(1 in y)\n",
    "\n",
    "# Output: False\n",
    "#print('a' in y)\n"
   ]
  },
  {
   "cell_type": "markdown",
   "metadata": {},
   "source": [
    "# 4. What are the values of the following expressions?\n",
    "(5 > 4) and (3 == 5)\n",
    "not (5 > 4)\n",
    "(5 > 4) or (3 == 5)\n",
    "not ((5 > 4) or (3 == 5))\n",
    "(True and True) and (True == False)\n",
    "(not False) or (not True)\n"
   ]
  },
  {
   "cell_type": "code",
   "execution_count": 11,
   "metadata": {},
   "outputs": [
    {
     "name": "stdout",
     "output_type": "stream",
     "text": [
      "The value of (5 > 4) and (3 == 5) is  False\n",
      "The value of not (5 > 4) is False\n",
      "The value of (5 > 4) or (3 == 5) is True\n",
      "The value of not ((5 > 4) or (3 == 5)) is False\n",
      "The value of (True and True) and (True == False) is False\n",
      "The value of (not False) or (not True) is True\n"
     ]
    }
   ],
   "source": [
    "a= (5 > 4) and (3 == 5)\n",
    "b= not (5 > 4)\n",
    "c = (5 > 4) or (3 == 5)\n",
    "d = not ((5 > 4) or (3 == 5))\n",
    "f = (True and True) and (True == False)\n",
    "g = (not False) or (not True)\n",
    "\n",
    "print ('The value of (5 > 4) and (3 == 5) is ', a)\n",
    "print ('The value of not (5 > 4) is', b)\n",
    "print ('The value of (5 > 4) or (3 == 5) is',c)\n",
    "print ('The value of not ((5 > 4) or (3 == 5)) is',d)\n",
    "print ('The value of (True and True) and (True == False) is',f)\n",
    "print ('The value of (not False) or (not True) is',g)\n"
   ]
  },
  {
   "cell_type": "markdown",
   "metadata": {},
   "source": [
    "# 5. What are the six different types of reference operators?"
   ]
  },
  {
   "cell_type": "code",
   "execution_count": 15,
   "metadata": {},
   "outputs": [
    {
     "name": "stdout",
     "output_type": "stream",
     "text": [
      "The term operator refers to a symbol which is predefined to perform a certain process such as addition, comparison etc.\n",
      "Each symbol requires one or more objects for the process to be performed.\n",
      "The objects are called operands and symbol itself is called operator.\n"
     ]
    },
    {
     "data": {
      "text/plain": [
       "'1)Arithmetic operators:-\\n\\n+ Addition\\n- Subtraction\\n* Multiplication\\n/ Division\\n% Modulus\\n** Exponentiation\\n// Floor division\\n\\n2)Logical operators:- \\n    \\nand --> Returns True if both statements are true.\\nor -->Returns True if one of the statements is true.\\nnot -->Reverse the result, returns False if the result is true.\\n\\n3)Sequence operators\\n\\n+ -->Concatenation (Appends second sequence to first)\\n* -->Repetition (concatenates multiple copies of the same sequence)\\n[] -->Slice(Gives the item at given index)\\n[ : ] -->Range Slice\\n\\n4)Set operators\\n5)Identity operators\\n\\nis -->Returns True if both variables are the same object\\nis not -->Returns True if both variables are not the same object\\n\\n6)Bitwise operators\\n\\n& --> AND -->Sets each bit to 1 if both bits are 1\\n| -->OR -->Sets each bit to 1 if one of two bits is 1\\n^ -->XOR -->Sets each bit to 1 if only one of two bits is 1\\n~ -->NOT -->Inverts all the bits'"
      ]
     },
     "execution_count": 15,
     "metadata": {},
     "output_type": "execute_result"
    }
   ],
   "source": [
    "print('The term operator refers to a symbol which is predefined to perform a certain process such as addition, comparison etc.'+ '\\n' + \n",
    "      'Each symbol requires one or more objects for the process to be performed.'+ '\\n' +\n",
    "      'The objects are called operands and symbol itself is called operator.')\n",
    "\n",
    "'''1)Arithmetic operators:-\n",
    "\n",
    "+ Addition\n",
    "- Subtraction\n",
    "* Multiplication\n",
    "/ Division\n",
    "% Modulus\n",
    "** Exponentiation\n",
    "// Floor division\n",
    "\n",
    "2)Logical operators:- \n",
    "    \n",
    "and --> Returns True if both statements are true.\n",
    "or -->Returns True if one of the statements is true.\n",
    "not -->Reverse the result, returns False if the result is true.\n",
    "\n",
    "3)Sequence operators\n",
    "\n",
    "+ -->Concatenation (Appends second sequence to first)\n",
    "* -->Repetition (concatenates multiple copies of the same sequence)\n",
    "[] -->Slice(Gives the item at given index)\n",
    "[ : ] -->Range Slice\n",
    "\n",
    "4)Comparison Operators\n",
    "\n",
    "== -->Equal\n",
    "!= -->Not equal\n",
    "> -->Greater than\n",
    "< -->Less than\n",
    ">= -->Greater than or equal to\n",
    "<= -->Less than or equal to\n",
    "\n",
    "5)Identity operators\n",
    "\n",
    "is -->Returns True if both variables are the same object\n",
    "is not -->Returns True if both variables are not the same object\n",
    "\n",
    "6)Bitwise operators\n",
    "\n",
    "& --> AND -->Sets each bit to 1 if both bits are 1\n",
    "| -->OR -->Sets each bit to 1 if one of two bits is 1\n",
    "^ -->XOR -->Sets each bit to 1 if only one of two bits is 1\n",
    "~ -->NOT -->Inverts all the bits'''\n"
   ]
  },
  {
   "cell_type": "markdown",
   "metadata": {},
   "source": [
    "# 6. How do you tell the difference between the equal to and assignment operators?\n"
   ]
  },
  {
   "cell_type": "code",
   "execution_count": 20,
   "metadata": {},
   "outputs": [
    {
     "name": "stdout",
     "output_type": "stream",
     "text": [
      "= is called as assignment operator & does not return true or false,\n",
      "== is called as comparison operator whereas It is also called as Equal operator.\n",
      "where == (Equal operator) Return true only if the two operands are equal if not false.\n",
      "\n",
      "\n",
      "The value of a is  6\n",
      "The value of b is  6\n",
      "The value of c is  7\n",
      "The value of a == b is  True\n",
      "The value of a == c is  False\n"
     ]
    }
   ],
   "source": [
    "print('= is called as assignment operator & does not return true or false,'+'\\n'+\n",
    "'== is called as comparison operator whereas It is also called as Equal operator.'+'\\n'+\n",
    "'where == (Equal operator) Return true only if the two operands are equal if not false.')\n",
    "print('\\n')\n",
    "a = 6 \n",
    "b = 6\n",
    "c = 7 \n",
    "print (\"The value of a is \",a)\n",
    "print (\"The value of b is \",b)\n",
    "print (\"The value of c is \",c)\n",
    "print (\"The value of a == b is \", a==b)\n",
    "print (\"The value of a == c is \", a==c)"
   ]
  },
  {
   "cell_type": "markdown",
   "metadata": {},
   "source": [
    "# 7. Describe a condition and when you would use one.\n"
   ]
  },
  {
   "cell_type": "code",
   "execution_count": null,
   "metadata": {},
   "outputs": [],
   "source": []
  },
  {
   "cell_type": "markdown",
   "metadata": {},
   "source": [
    "\n",
    "# 8. Recognize the following three blocks in this code:\n",
    "\n",
    "spam = 0\n",
    "if spam == 10:\n",
    "    print('eggs')\n",
    "    if spam > 5:\n",
    "        print('bacon')\n",
    "    else:\n",
    "        print('ham')\n",
    "    print('spam')\n",
    "print('spam')\n"
   ]
  },
  {
   "cell_type": "code",
   "execution_count": null,
   "metadata": {},
   "outputs": [],
   "source": []
  },
  {
   "cell_type": "markdown",
   "metadata": {},
   "source": [
    "# 9. Create a programme that prints. If 1 is stored in spam, prints Hello; if 2 is stored in spam, prints Howdy; and if 3 is stored in spam, prints Salutations! if there's something else in spam.\n"
   ]
  },
  {
   "cell_type": "code",
   "execution_count": null,
   "metadata": {},
   "outputs": [],
   "source": []
  },
  {
   "cell_type": "markdown",
   "metadata": {},
   "source": [
    "# 10.If your programme is stuck in an endless loop, what keys can you press?\n"
   ]
  },
  {
   "cell_type": "code",
   "execution_count": null,
   "metadata": {},
   "outputs": [],
   "source": []
  },
  {
   "cell_type": "markdown",
   "metadata": {},
   "source": [
    "# 11. How can you tell the difference between break and continue?\n"
   ]
  },
  {
   "cell_type": "code",
   "execution_count": null,
   "metadata": {},
   "outputs": [],
   "source": []
  },
  {
   "cell_type": "markdown",
   "metadata": {},
   "source": [
    "# 12. In a for loop, what is the difference between range(10), range(0, 10), and range(0, 10, 1)?\n"
   ]
  },
  {
   "cell_type": "code",
   "execution_count": null,
   "metadata": {},
   "outputs": [],
   "source": []
  },
  {
   "cell_type": "markdown",
   "metadata": {},
   "source": [
    "# 13. Using a for loop, write a short programme that prints the numbers 1 to 10 Then, using a while loop, create an identical programme that prints the numbers 1 to 10.\n"
   ]
  },
  {
   "cell_type": "code",
   "execution_count": null,
   "metadata": {},
   "outputs": [],
   "source": []
  },
  {
   "cell_type": "markdown",
   "metadata": {},
   "source": [
    "# 14. If you had a bacon() function within a spam module, what would you call it after importing spam?\n"
   ]
  },
  {
   "cell_type": "code",
   "execution_count": null,
   "metadata": {},
   "outputs": [],
   "source": []
  },
  {
   "cell_type": "code",
   "execution_count": null,
   "metadata": {},
   "outputs": [],
   "source": []
  }
 ],
 "metadata": {
  "kernelspec": {
   "display_name": "Python 3",
   "language": "python",
   "name": "python3"
  },
  "language_info": {
   "codemirror_mode": {
    "name": "ipython",
    "version": 3
   },
   "file_extension": ".py",
   "mimetype": "text/x-python",
   "name": "python",
   "nbconvert_exporter": "python",
   "pygments_lexer": "ipython3",
   "version": "3.7.6"
  }
 },
 "nbformat": 4,
 "nbformat_minor": 4
}
