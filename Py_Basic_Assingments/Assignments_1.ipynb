{
 "cells": [
  {
   "cell_type": "markdown",
   "metadata": {},
   "source": [
    "# 1. What are the differences between operators and values in the following?\n",
    "*\n",
    "'hello'\n",
    "-87.8\n",
    "-\n",
    "/\n",
    "+\n",
    "6\n"
   ]
  },
  {
   "cell_type": "code",
   "execution_count": 27,
   "metadata": {},
   "outputs": [
    {
     "name": "stdout",
     "output_type": "stream",
     "text": [
      "**Operators are the symbols in python that are used to perform operations on variables and values.**\n",
      "\"*\"used for Multiplication eg:- 2*3= 6\n",
      "\"-\"used for Multiplication eg:- 2-3= -1\n",
      "\"/\"used for Subtraction eg:- 2/3= 0.6666666666666666\n",
      "\"+\"used for Addition eg:- 2+3= 5\n",
      "-87.8 is a float eg:type(a)= <class 'float'>\n",
      "\"hello\"is a string eg:type(b)= <class 'str'>\n",
      "6 is a integer eg:type(c)=  <class 'int'>\n"
     ]
    }
   ],
   "source": [
    "print('**Operators are the symbols in python that are used to perform operations on variables and values.**')\n",
    "\n",
    "i = 2\n",
    "n = 3\n",
    "a = -87.8\n",
    "b= 'hello'\n",
    "c= 6\n",
    "d= '*'\n",
    "e= \"-\"\n",
    "f=\"/\"\n",
    "g='+'\n",
    "\n",
    "print ('\"{}\"'.format(d) + 'used for Multiplication eg:- 2*3=',i*n)\n",
    "print ('\"{}\"'.format(e) + 'used for Multiplication eg:- 2-3=',i-n)\n",
    "print ('\"{}\"'.format(f) + 'used for Subtraction eg:- 2/3=',i/n)\n",
    "print ('\"{}\"'.format(g) + 'used for Addition eg:- 2+3=',i+n)\n",
    "print('-87.8 is a float eg:type(a)=',type(a))\n",
    "print('\"{}\"'.format(b) +'is a string eg:type(b)=',type(b))\n",
    "print('6 is a integer eg:type(c)= ',type(c))"
   ]
  },
  {
   "cell_type": "markdown",
   "metadata": {},
   "source": [
    "# 2. What is the difference between string and variable?\n",
    "spam\n",
    "'spam'"
   ]
  },
  {
   "cell_type": "code",
   "execution_count": 34,
   "metadata": {},
   "outputs": [
    {
     "name": "stdout",
     "output_type": "stream",
     "text": [
      "**A variable is a name that can refer to any value like integer, floating point, string, boolean.**\n",
      "Here 3 is a integer value eg:type(a)= <class 'int'>\n",
      "**A string is a value representing text.**\n",
      "Here 3 is a string eg:type(b)= <class 'str'>\n"
     ]
    }
   ],
   "source": [
    "a= 3\n",
    "b='3'\n",
    "print(\"**A variable is a name that can refer to any value like integer, floating point, string, boolean.**\")\n",
    "print('Here 3 is a integer value eg:type(a)=',type(a))\n",
    "print(\"**A string is a value representing text.**\")\n",
    "print('Here 3 is a string eg:type(b)=',type(b))"
   ]
  },
  {
   "cell_type": "markdown",
   "metadata": {},
   "source": [
    "# 3. Describe three different data forms."
   ]
  },
  {
   "cell_type": "code",
   "execution_count": 54,
   "metadata": {},
   "outputs": [
    {
     "name": "stdout",
     "output_type": "stream",
     "text": [
      "Following are the standard or built-in data type of Python:\n",
      "\n",
      "\n",
      "Numeric data types:\n",
      "\n",
      "-->Python numeric data type is used to hold numeric values like.\n",
      "-->int – holds signed integers of non-limited length.\n",
      "-->long- holds long integers.\n",
      "-->float- holds floating precision numbers.\n",
      "-->complex- holds complex numbers.\n",
      "The type of variable having value 100  is  <class 'int'>\n",
      "The type of variable having value 10.2345  is  <class 'float'>\n",
      "The type of variable having value (100+3j)  is  <class 'complex'>\n",
      "\n",
      "\n",
      "String data types:\n",
      "\n",
      "-->Strings are represented by either single or double-quotes.\n",
      "\"string in a double quote\"is a string eg:type(a)= <class 'str'>\n",
      "\"string in a single quote\"is a string eg:type(b)= <class 'str'>\n",
      "\n",
      "\n",
      "Sequence data types:\n",
      "\n",
      "--> The list is a versatile data type exclusive in Python.Formally list is an ordered sequence of some data written using square brackets.\n",
      "-->The tuple is another data type which is a sequence of data similar to a list. But it is immutable.\n",
      "The type(a) is <class 'list'>\n",
      "The type(b) is <class 'tuple'>\n"
     ]
    }
   ],
   "source": [
    "print('Following are the standard or built-in data type of Python:')\n",
    "\n",
    "print('\\n')\n",
    "\n",
    "print('Numeric data types:'+ '\\n' +'\\n' +\n",
    "'-->Python numeric data type is used to hold numeric values like.'+ '\\n' +\n",
    "'-->int – holds signed integers of non-limited length.'+'\\n' +\n",
    "'-->long- holds long integers.'+'\\n' +\n",
    "'-->float- holds floating precision numbers.'+'\\n' +\n",
    "'-->complex- holds complex numbers.')\n",
    "\n",
    "a=100\n",
    "print(\"The type of variable having value\", a, \" is \", type(a))\n",
    "\n",
    "b=10.2345\n",
    "print(\"The type of variable having value\", b, \" is \", type(b))\n",
    "\n",
    "c=100+3j\n",
    "print(\"The type of variable having value\", c, \" is \", type(c))\n",
    "\n",
    "print('\\n')\n",
    "print('String data types:'+ '\\n' +'\\n' +\n",
    "'-->Strings are represented by either single or double-quotes.')\n",
    "a = \"string in a double quote\"\n",
    "b= 'string in a single quote'\n",
    "print('\"{}\"'.format(a) +'is a string eg:type(a)=',type(a))\n",
    "print('\"{}\"'.format(b) +'is a string eg:type(b)=',type(b))\n",
    "\n",
    "print('\\n')\n",
    "print('Sequence data types:'+'\\n' +'\\n' +\n",
    "'--> The list is a versatile data type exclusive in Python.Formally list is an ordered sequence of some data written using square brackets.'+'\\n' +\n",
    "'-->The tuple is another data type which is a sequence of data similar to a list. But it is immutable.')\n",
    "a= [\"hey\",\"you\",1,2,3,\"go\"]\n",
    "print('The type(a) is',type(a))\n",
    "b=(\"hello\", 1,2,3,\"go\")\n",
    "print('The type(b) is',type(b))\n"
   ]
  },
  {
   "cell_type": "markdown",
   "metadata": {},
   "source": [
    "# 4. What makes up an expression? What are the functions of all expressions?"
   ]
  },
  {
   "cell_type": "code",
   "execution_count": 56,
   "metadata": {},
   "outputs": [
    {
     "data": {
      "text/plain": [
       "'An expression is a combination of one or more operands, zero or more operators, and zero or more pairs of parentheses.\\n\\nThere are three kinds of expressions:\\n\\n1)An arithmetic expression evaluates to a single arithmetic value.\\n\\n2)A character expression evaluates to a single value of type character.\\n\\n3) logical or relational expression evaluates to a single logical value.\\n\\nThe operators indicate what action or operation to perform.\\n\\n1)Arithmetic Expressions \\n\\n**-->Exponentiation\\n\\n*-->Multiplication\\n\\n/-->Division\\n\\n- -->Subtraction\\n\\n+ -->Addition\\n\\n2)Character Expressions:\\n\\na // z --> Concatenate a with z.\\n\\n3)Logical Expressions\\n\\nAND --> Logical conjunction \\nOR --> Logical disjunction\\nNOT --> Logical negation \\n\\n\\n'"
      ]
     },
     "execution_count": 56,
     "metadata": {},
     "output_type": "execute_result"
    }
   ],
   "source": [
    "'''An expression is a combination of one or more operands, zero or more operators, and zero or more pairs of parentheses.\n",
    "\n",
    "There are three kinds of expressions:\n",
    "\n",
    "1)An arithmetic expression evaluates to a single arithmetic value.\n",
    "\n",
    "2)A character expression evaluates to a single value of type character.\n",
    "\n",
    "3) logical or relational expression evaluates to a single logical value.\n",
    "\n",
    "The operators indicate what action or operation to perform.\n",
    "\n",
    "1)Arithmetic Expressions \n",
    "\n",
    "**-->Exponentiation\n",
    "\n",
    "*-->Multiplication\n",
    "\n",
    "/-->Division\n",
    "\n",
    "- -->Subtraction\n",
    "\n",
    "+ -->Addition\n",
    "\n",
    "2)Character Expressions:\n",
    "\n",
    "a // z --> Concatenate a with z.\n",
    "\n",
    "3)Logical Expressions\n",
    "\n",
    "AND --> Logical conjunction \n",
    "OR --> Logical disjunction\n",
    "NOT --> Logical negation \n",
    "'''"
   ]
  },
  {
   "cell_type": "markdown",
   "metadata": {},
   "source": [
    "# 5. In this chapter, assignment statements such as spam = 10 were added. What's the difference between a declaration and an expression?"
   ]
  },
  {
   "cell_type": "code",
   "execution_count": 68,
   "metadata": {},
   "outputs": [
    {
     "name": "stdout",
     "output_type": "stream",
     "text": [
      "The declare value of spam INeuron\n",
      "The value of spam after re-declaring is 10\n",
      "Now the value of spam + spam is 20\n",
      "SO, An expression is a combination of values, variables, and operators.Here spam + spam is an expression, the interpreter evaluates it and displays the result:\n"
     ]
    }
   ],
   "source": [
    "spam = 'INeuron'\n",
    "print('The declare value of spam',spam)\n",
    "spam = 10\n",
    "print('The value of spam after re-declaring is',spam )\n",
    "# re-declaring the variable works\n",
    "print('Now the value of spam + spam is',spam + spam )\n",
    "\n",
    "print ('SO, An expression is a combination of values, variables, and operators.Here spam + spam is an expression, the interpreter evaluates it and displays the result:')"
   ]
  },
  {
   "cell_type": "markdown",
   "metadata": {},
   "source": [
    "# 6. After running the following code, what does the variable bacon contain?\n",
    "bacon = 22\n",
    "bacon + 1"
   ]
  },
  {
   "cell_type": "code",
   "execution_count": 72,
   "metadata": {},
   "outputs": [
    {
     "name": "stdout",
     "output_type": "stream",
     "text": [
      "The current bacon value is 22\n",
      "After bacon + 1 the current value is 23\n"
     ]
    }
   ],
   "source": [
    "bacon = 22 \n",
    "print('The current bacon value is',bacon)\n",
    "print('After bacon + 1 the current value is',bacon + 1)\n"
   ]
  },
  {
   "cell_type": "markdown",
   "metadata": {},
   "source": [
    "# 7. What should the values of the following two terms be?\n",
    "\n",
    "'spam' + 'spamspam'\n",
    "'spam' * 3"
   ]
  },
  {
   "cell_type": "code",
   "execution_count": 74,
   "metadata": {},
   "outputs": [
    {
     "name": "stdout",
     "output_type": "stream",
     "text": [
      "The value of spam + spamspam is  spamspamspam\n",
      "the value of spam * 3 is spamspamspam\n"
     ]
    }
   ],
   "source": [
    "print('The value of spam + spamspam is ','spam' + 'spamspam') \n",
    "print('the value of spam * 3 is','spam' * 3)\n"
   ]
  },
  {
   "cell_type": "markdown",
   "metadata": {},
   "source": [
    "# 8. Why is it that eggs is a true variable name but 100 is not?"
   ]
  },
  {
   "cell_type": "code",
   "execution_count": 79,
   "metadata": {},
   "outputs": [
    {
     "ename": "SyntaxError",
     "evalue": "can't assign to literal (<ipython-input-79-cad20fc44590>, line 4)",
     "output_type": "error",
     "traceback": [
      "\u001b[1;36m  File \u001b[1;32m\"<ipython-input-79-cad20fc44590>\"\u001b[1;36m, line \u001b[1;32m4\u001b[0m\n\u001b[1;33m    100 = False\u001b[0m\n\u001b[1;37m               ^\u001b[0m\n\u001b[1;31mSyntaxError\u001b[0m\u001b[1;31m:\u001b[0m can't assign to literal\n"
     ]
    }
   ],
   "source": [
    "print('Variable names cannot begin with a number.')\n",
    "\n",
    "eggs = True\n",
    "100 = False\n",
    "print(eggs, 100)"
   ]
  },
  {
   "cell_type": "markdown",
   "metadata": {},
   "source": [
    "# 9. Which of the following three functions may be used to convert a value to an integer, a floating-point number, or a string?"
   ]
  },
  {
   "cell_type": "code",
   "execution_count": 86,
   "metadata": {},
   "outputs": [
    {
     "name": "stdout",
     "output_type": "stream",
     "text": [
      "Integers:\n",
      "1 2 3\n",
      "\n",
      "\n",
      "Floats:\n",
      "1.0 2.8 3.0 4.2\n",
      "\n",
      "\n",
      "Strings:\n",
      "s1 2 3.0\n"
     ]
    }
   ],
   "source": [
    "print('Integers:')\n",
    "\n",
    "x = int(1)   # x will be 1\n",
    "y = int(2.8) # y will be 2\n",
    "z = int(\"3\") # z will be 3\n",
    "\n",
    "print(x,y,z)\n",
    "\n",
    "print('\\n')\n",
    "\n",
    "print('Floats:')\n",
    "x = float(1)     # x will be 1.0\n",
    "y = float(2.8)   # y will be 2.8\n",
    "z = float(\"3\")   # z will be 3.0\n",
    "w = float(\"4.2\") # w will be 4.2\n",
    "print(x,y,z,w)\n",
    "print('\\n')\n",
    "\n",
    "print('Strings:')\n",
    "x = str(\"s1\") # x will be 's1'\n",
    "y = str(2)    # y will be '2'\n",
    "z = str(3.0)  # z will be '3.0'\n",
    "print(x,y,z)"
   ]
  },
  {
   "cell_type": "markdown",
   "metadata": {},
   "source": [
    "# 10. What is the error caused by this expression? What would you do about it?\n",
    "\n",
    "'I have eaten ' + 99 + ' burritos.'"
   ]
  },
  {
   "cell_type": "code",
   "execution_count": 94,
   "metadata": {},
   "outputs": [
    {
     "name": "stdout",
     "output_type": "stream",
     "text": [
      " we cant join str with int, so lets convert the int 99 to str\n"
     ]
    },
    {
     "data": {
      "text/plain": [
       "'I have eaten 99 burritos.'"
      ]
     },
     "execution_count": 94,
     "metadata": {},
     "output_type": "execute_result"
    }
   ],
   "source": [
    "#'I have eaten ' + 99 + ' burritos.\n",
    "#TypeError: can only concatenate str (not \"int\") to str\n",
    "\n",
    "print (' we cant join str with int, so lets convert the int 99 to str')\n",
    "\n",
    "'I have eaten ' + '99'+ ' burritos.'"
   ]
  },
  {
   "cell_type": "code",
   "execution_count": null,
   "metadata": {},
   "outputs": [],
   "source": []
  }
 ],
 "metadata": {
  "kernelspec": {
   "display_name": "Python 3",
   "language": "python",
   "name": "python3"
  },
  "language_info": {
   "codemirror_mode": {
    "name": "ipython",
    "version": 3
   },
   "file_extension": ".py",
   "mimetype": "text/x-python",
   "name": "python",
   "nbconvert_exporter": "python",
   "pygments_lexer": "ipython3",
   "version": "3.7.6"
  }
 },
 "nbformat": 4,
 "nbformat_minor": 4
}
