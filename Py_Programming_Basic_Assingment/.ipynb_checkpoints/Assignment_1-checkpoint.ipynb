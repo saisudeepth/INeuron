{
 "cells": [
  {
   "cell_type": "markdown",
   "metadata": {},
   "source": [
    "# 1. Write a Python program to print &quot;Hello Python&quot;?"
   ]
  },
  {
   "cell_type": "code",
   "execution_count": 3,
   "metadata": {},
   "outputs": [
    {
     "name": "stdout",
     "output_type": "stream",
     "text": [
      "Hello Python\n"
     ]
    }
   ],
   "source": [
    "print(\"Hello Python\")"
   ]
  },
  {
   "cell_type": "markdown",
   "metadata": {},
   "source": [
    "# 2. Write a Python program to do arithmetical operations addition and division.?"
   ]
  },
  {
   "cell_type": "code",
   "execution_count": 6,
   "metadata": {},
   "outputs": [
    {
     "name": "stdout",
     "output_type": "stream",
     "text": [
      "The Addition of a+b =  50\n",
      "The Subtraction of a-b =  -10\n",
      "The Division of a/b =  0.6666666666666666\n",
      "The Multiplication of a*b =  600\n",
      "The Modulus of a%b =  20\n",
      "The Exponentiation of a**b =  1073741824000000000000000000000000000000\n",
      "The Floor division of a//b =  0\n"
     ]
    }
   ],
   "source": [
    "a= 20\n",
    "b= 30\n",
    "print(\"The Addition of a+b = \", a+b)\n",
    "print(\"The Subtraction of a-b = \", a-b)\n",
    "print(\"The Division of a/b = \", a/b)\n",
    "print(\"The Multiplication of a*b = \", a*b)\n",
    "print(\"The Modulus of a%b = \", a%b)\n",
    "print(\"The Exponentiation of a**b = \", a**b)\n",
    "print(\"The Floor division of a//b = \", a//b)\n"
   ]
  },
  {
   "cell_type": "markdown",
   "metadata": {},
   "source": [
    "# 3. Write a Python program to find the area of a triangle?"
   ]
  },
  {
   "cell_type": "code",
   "execution_count": 14,
   "metadata": {},
   "outputs": [
    {
     "name": "stdout",
     "output_type": "stream",
     "text": [
      "Enter the 1st side of Triangle = 5\n",
      "Enter the 2st side of Triangle = 6\n",
      "Enter the 3st side of Triangle = 7\n",
      "The Area of the Traiangle is  14.696938456699069\n"
     ]
    }
   ],
   "source": [
    "side1 = float (input(\"Enter the 1st side of Triangle = \"))\n",
    "side2 = float (input(\"Enter the 2st side of Triangle = \"))\n",
    "side3 = float (input(\"Enter the 3st side of Triangle = \"))\n",
    "\n",
    "#calculate the semi-perimeter\n",
    "\n",
    "s = (side1+side2+side3)/2\n",
    "\n",
    "# calculate the area\n",
    "\n",
    "area = (s*(s-side1)*(s-side2)*(s-side3))**0.5\n",
    "\n",
    "print(\"The Area of the Traiangle is \",area)"
   ]
  },
  {
   "cell_type": "markdown",
   "metadata": {},
   "source": [
    "# 4. Write a Python program to swap two variables?"
   ]
  },
  {
   "cell_type": "code",
   "execution_count": 2,
   "metadata": {},
   "outputs": [
    {
     "name": "stdout",
     "output_type": "stream",
     "text": [
      "Enter the 1st number : 3\n",
      "Enter the 2nd number : 33\n",
      "After the Swap the 1st number is  33\n",
      "After the Swap the 2nd number is  3\n"
     ]
    }
   ],
   "source": [
    "number1 = input(\"Enter the 1st number : \")\n",
    "number2 = input(\"Enter the 2nd number : \")\n",
    "\n",
    "temp_number = number1\n",
    "number1 = number2\n",
    "number2 = temp_number\n",
    "\n",
    "print (\"After the Swap the 1st number is \", number1)\n",
    "print (\"After the Swap the 2nd number is \", number2)\n",
    "\n"
   ]
  },
  {
   "cell_type": "markdown",
   "metadata": {},
   "source": [
    "# 5. Write a Python program to generate a random number?"
   ]
  },
  {
   "cell_type": "code",
   "execution_count": 5,
   "metadata": {},
   "outputs": [
    {
     "name": "stdout",
     "output_type": "stream",
     "text": [
      "5\n"
     ]
    }
   ],
   "source": [
    "# Program to generate a random number between 0 and 9\n",
    "\n",
    "# importing the random module\n",
    "import random\n",
    "\n",
    "print(random.randint(0,9))"
   ]
  },
  {
   "cell_type": "code",
   "execution_count": null,
   "metadata": {},
   "outputs": [],
   "source": []
  }
 ],
 "metadata": {
  "kernelspec": {
   "display_name": "Python 3",
   "language": "python",
   "name": "python3"
  },
  "language_info": {
   "codemirror_mode": {
    "name": "ipython",
    "version": 3
   },
   "file_extension": ".py",
   "mimetype": "text/x-python",
   "name": "python",
   "nbconvert_exporter": "python",
   "pygments_lexer": "ipython3",
   "version": "3.7.6"
  }
 },
 "nbformat": 4,
 "nbformat_minor": 4
}
